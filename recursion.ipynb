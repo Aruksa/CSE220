{
  "nbformat": 4,
  "nbformat_minor": 0,
  "metadata": {
    "colab": {
      "provenance": []
    },
    "kernelspec": {
      "name": "python3",
      "display_name": "Python 3"
    },
    "language_info": {
      "name": "python"
    }
  },
  "cells": [
    {
      "cell_type": "code",
      "execution_count": null,
      "metadata": {
        "colab": {
          "base_uri": "https://localhost:8080/"
        },
        "id": "xDPEnoEqEBoR",
        "outputId": "fca46a28-1f7c-45ea-89f2-ecb98d5b7bda"
      },
      "outputs": [
        {
          "output_type": "execute_result",
          "data": {
            "text/plain": [
              "2"
            ]
          },
          "metadata": {},
          "execution_count": 12
        }
      ],
      "source": [
        "#Very Easy\n",
        "#recursive algorithm to find factorial of n\n",
        "\n",
        "def factorial(n):\n",
        "  if n == 0:\n",
        "    return 0\n",
        "  elif n == 1:\n",
        "    return 1\n",
        "  else:\n",
        "    return n * factorial(n-1)\n",
        "  \n",
        "factorial(2)\n"
      ]
    },
    {
      "cell_type": "code",
      "source": [
        "#Very Easy \n",
        "#recursive algorithm to find the n-th Fibonacci number\n",
        "def fibonacci(n):\n",
        "    if n <= 1:\n",
        "        return n\n",
        "    else:\n",
        "        return fibonacci(n-1) + fibonacci(n-2)\n",
        "\n",
        "fibonacci(6)"
      ],
      "metadata": {
        "colab": {
          "base_uri": "https://localhost:8080/"
        },
        "id": "wLOgfiznTDKw",
        "outputId": "eae11f91-e9a7-4502-eb5f-62a6d57852e0"
      },
      "execution_count": null,
      "outputs": [
        {
          "output_type": "execute_result",
          "data": {
            "text/plain": [
              "8"
            ]
          },
          "metadata": {},
          "execution_count": 1
        }
      ]
    },
    {
      "cell_type": "code",
      "source": [
        "#Very Easy\n",
        "#Print all the elements of a given array recursively\n",
        "a = [10,20,30,40,50]\n",
        "def print_array(a):\n",
        "  print(a[0])\n",
        "  if len(a) == 1:\n",
        "    return \n",
        "  else:\n",
        "    print_array(a[1::])\n",
        "\n",
        "print_array(a)"
      ],
      "metadata": {
        "id": "ITYOcRI4oEAO",
        "colab": {
          "base_uri": "https://localhost:8080/"
        },
        "outputId": "ee0dbc5b-372f-48fc-f5d4-bdb56b0d40ec"
      },
      "execution_count": null,
      "outputs": [
        {
          "output_type": "stream",
          "name": "stdout",
          "text": [
            "10\n",
            "20\n",
            "30\n",
            "40\n",
            "50\n"
          ]
        }
      ]
    },
    {
      "cell_type": "code",
      "source": [
        "#powerN\n",
        "#Very Easy\n",
        "\n",
        "def powerN(a,b):\n",
        "  if b == 0:\n",
        "    return 1\n",
        "  else:\n",
        "    return a*powerN(a,b-1) #return na dile it doesn't make sense \n",
        "\n",
        "powerN(3,3)"
      ],
      "metadata": {
        "colab": {
          "base_uri": "https://localhost:8080/"
        },
        "id": "hMEcFYkh6ppt",
        "outputId": "32983663-e740-422b-8106-5762a3f9a274"
      },
      "execution_count": null,
      "outputs": [
        {
          "output_type": "execute_result",
          "data": {
            "text/plain": [
              "27"
            ]
          },
          "metadata": {},
          "execution_count": 15
        }
      ]
    },
    {
      "cell_type": "code",
      "source": [
        "#Easy \n",
        "#Decimal to Binary number\n",
        "\n",
        "def decbin(a):\n",
        "  sum = 0\n",
        "  if a == 0:\n",
        "    return\n",
        "  else:\n",
        "    sum = a%2\n",
        "    decbin(int(a/2)) \n",
        "    print(sum)\n",
        "\n",
        "decbin(13)"
      ],
      "metadata": {
        "id": "uNjJBHYxSpZI",
        "colab": {
          "base_uri": "https://localhost:8080/"
        },
        "outputId": "81b4c8aa-8332-4f10-c99b-20f889f5cd5a"
      },
      "execution_count": 23,
      "outputs": [
        {
          "output_type": "stream",
          "name": "stdout",
          "text": [
            "1\n",
            "1\n",
            "0\n",
            "1\n"
          ]
        }
      ]
    },
    {
      "cell_type": "code",
      "source": [
        "#Easy \n",
        "\n",
        "#Implement a recursive algorithm to add all the elements of a non-dummy headed singly linked linear list,only head given \n",
        "#print elements in reverse order\n",
        "a = [10,20,30,40]\n",
        "\n",
        "class Node:\n",
        "  def __init__(self,element,next):\n",
        "    self.element = element \n",
        "    self.next = next\n",
        "\n",
        "class Linked_list:\n",
        "  def __init__(self,a):\n",
        "    self.head = Node(a[0],None)\n",
        "    self.n = self.head\n",
        "\n",
        "  def add_list(self,a):\n",
        "    if len(a) == 1:\n",
        "      Node(a[0],None)\n",
        "    else:\n",
        "      self.n.next = Node(a[1],None)\n",
        "      self.n = self.n.next\n",
        "      self.add_list(a[1::])\n",
        "    \n",
        "  def find_head(self):\n",
        "    return self.head\n",
        "\n",
        "  def print_rev(self,a):\n",
        "     if a is not None:\n",
        "       self.print_rev(a.next)\n",
        "       print(a.element)\n",
        "       \n",
        "  \n",
        "w = Linked_list(a)\n",
        "w.add_list(a)\n",
        "v  = w.find_head()\n",
        "w.print_rev(v)"
      ],
      "metadata": {
        "colab": {
          "base_uri": "https://localhost:8080/"
        },
        "id": "YZ6-gq2C-oiV",
        "outputId": "69c47f2a-df45-47e8-a78f-ac6917b9ecd3"
      },
      "execution_count": 12,
      "outputs": [
        {
          "output_type": "stream",
          "name": "stdout",
          "text": [
            "40\n",
            "30\n",
            "20\n",
            "10\n"
          ]
        }
      ]
    },
    {
      "cell_type": "code",
      "source": [
        "#Medium\n",
        "\n",
        "def hocBuilder(height):\n",
        "  sum = 0\n",
        "  if height == 0:\n",
        "    return sum\n",
        "  elif height == 1:\n",
        "    return sum + 8\n",
        "  else:\n",
        "    sum = 5 + hocBuilder(height-1)\n",
        "    return sum \n",
        "hocBuilder(3)"
      ],
      "metadata": {
        "colab": {
          "base_uri": "https://localhost:8080/"
        },
        "id": "V874snPRDuYX",
        "outputId": "f1c0d668-1c78-4690-b06b-e6e4c52ba6b6"
      },
      "execution_count": null,
      "outputs": [
        {
          "output_type": "execute_result",
          "data": {
            "text/plain": [
              "18"
            ]
          },
          "metadata": {},
          "execution_count": 4
        }
      ]
    },
    {
      "cell_type": "code",
      "source": [
        "#Hard \n",
        "#a\n",
        "\n",
        "def left_triangle(a,row=2):\n",
        "  if a == 0:\n",
        "    return \n",
        "  else:\n",
        "    for i in range(1,row):\n",
        "      print(i,end = \" \")\n",
        "    print(\"\\n\")\n",
        "    left_triangle(a-1,row+1)\n",
        "\n",
        "left_triangle(7)"
      ],
      "metadata": {
        "colab": {
          "base_uri": "https://localhost:8080/"
        },
        "id": "NmDxlhGx0l_j",
        "outputId": "ef9c75a5-9ce4-407d-d3b7-d440c92212df"
      },
      "execution_count": null,
      "outputs": [
        {
          "output_type": "stream",
          "name": "stdout",
          "text": [
            "1 \n",
            "\n",
            "1 2 \n",
            "\n",
            "1 2 3 \n",
            "\n",
            "1 2 3 4 \n",
            "\n",
            "1 2 3 4 5 \n",
            "\n",
            "1 2 3 4 5 6 \n",
            "\n",
            "1 2 3 4 5 6 7 \n",
            "\n"
          ]
        }
      ]
    },
    {
      "cell_type": "code",
      "source": [
        "#Hard\n",
        "#b\n",
        "\n",
        "def right_triangle(a,b,c=2):\n",
        "  if a == 0:\n",
        "    return\n",
        "  else:\n",
        "    for i in range(1,b):\n",
        "      print(\" \",end = \" \")\n",
        "    for j in range(1,c):\n",
        "      print(j,end = \" \")\n",
        "    print(\"\\n\")\n",
        "    right_triangle(a-1,b-1,c+1)\n",
        "\n",
        "right_triangle(5,5)"
      ],
      "metadata": {
        "colab": {
          "base_uri": "https://localhost:8080/"
        },
        "id": "5kbcYekk4_E1",
        "outputId": "52c6bde0-4c15-4b88-c548-ef39b19a5cfc"
      },
      "execution_count": null,
      "outputs": [
        {
          "output_type": "stream",
          "name": "stdout",
          "text": [
            "        1 \n",
            "\n",
            "      1 2 \n",
            "\n",
            "    1 2 3 \n",
            "\n",
            "  1 2 3 4 \n",
            "\n",
            "1 2 3 4 5 \n",
            "\n"
          ]
        }
      ]
    },
    {
      "cell_type": "code",
      "source": [
        "#Very Hard\n",
        "import sys \n",
        "sys.setrecursionlimit(10000)\n",
        "\n",
        "class FinalQ: \n",
        "  def print(self,array,idx): \n",
        "    if(idx<len(array)): \n",
        "      profit = self.calcProfit(array[idx])\n",
        "      print(\"Investment:\",array[idx],\"; Profit:\",profit,\"\\n\") \n",
        "      self.print(array,idx+1)\n",
        "  \n",
        "  def calcProfit(self,investment):\n",
        "    self.investment = investment\n",
        "    if investment > 25000 and investment <= 100000:\n",
        "      return 4.5 + self.calcProfit(investment - 100)\n",
        "    elif investment > 100000:\n",
        "      return 8 + self.calcProfit(investment - 100) \n",
        "    else:\n",
        "      return 0                 #0 return korte hobe\n",
        "#Tester \n",
        "array=[25000,100000,250000,350000] \n",
        "f = FinalQ() \n",
        "f.print(array,0)\n"
      ],
      "metadata": {
        "colab": {
          "base_uri": "https://localhost:8080/"
        },
        "id": "o7Y6wudf7bte",
        "outputId": "258eca41-901f-4392-f75d-80f2f5a24d42"
      },
      "execution_count": null,
      "outputs": [
        {
          "output_type": "stream",
          "name": "stdout",
          "text": [
            "Investment: 25000 ; Profit: 0 \n",
            "\n",
            "Investment: 100000 ; Profit: 3375.0 \n",
            "\n",
            "Investment: 250000 ; Profit: 15375.0 \n",
            "\n",
            "Investment: 350000 ; Profit: 23375.0 \n",
            "\n"
          ]
        }
      ]
    }
  ]
}