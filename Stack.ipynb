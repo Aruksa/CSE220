{
  "nbformat": 4,
  "nbformat_minor": 0,
  "metadata": {
    "colab": {
      "provenance": []
    },
    "kernelspec": {
      "name": "python3",
      "display_name": "Python 3"
    },
    "language_info": {
      "name": "python"
    }
  },
  "cells": [
    {
      "cell_type": "code",
      "execution_count": null,
      "metadata": {
        "colab": {
          "base_uri": "https://localhost:8080/"
        },
        "id": "SVbXXSVrnVqv",
        "outputId": "cb0bf295-fdfe-468c-d586-6d4fb4b74146"
      },
      "outputs": [
        {
          "output_type": "execute_result",
          "data": {
            "text/plain": [
              "9"
            ]
          },
          "metadata": {},
          "execution_count": 14
        }
      ],
      "source": [
        "#making stack using linked list \n",
        "\n",
        "class Node:\n",
        "  def __init__(self,value,prev):\n",
        "    self.value = value\n",
        "    self.prev = prev \n",
        "\n",
        "class Stack:\n",
        "  \n",
        "  head = None \n",
        "\n",
        "  #def __init__(self):\n",
        "    #self.head = None \n",
        "\n",
        "  def push(self,v):\n",
        "    if self.head == None:\n",
        "      self.head = Node(v,None)\n",
        "    else:\n",
        "      n = Node(v,None)\n",
        "      n.prev = self.head \n",
        "      self.head = n \n",
        "  def peek(self):\n",
        "    return (self.head.value)\n",
        "  \n",
        "  def pop(self):\n",
        "    temp = self.head \n",
        "    self.head = self.head.prev \n",
        "    temp.prev = None \n",
        "    return temp.value \n",
        "\n",
        "s = Stack()      #object ke create korbe??\n",
        "s.push(3)\n",
        "s.push(4)\n",
        "s.push(5)\n",
        "s.push(9)\n",
        "s.pop()"
      ]
    },
    {
      "cell_type": "code",
      "source": [
        "class Stack_Array:\n",
        "    stack = []\n",
        "    pointer = -1\n",
        "\n",
        "    def push(self, element):\n",
        "        self.stack.append(element)\n",
        "        self.pointer += 1\n",
        "\n",
        "    def peek(self):\n",
        "        return self.stack[self.pointer]\n",
        "\n",
        "    def pop(self):\n",
        "        value = self.stack[self.pointer]\n",
        "        self.stack = self.stack[:-1]\n",
        "        self.pointer -= 1\n",
        "        return value\n",
        "\n",
        "s = Stack_Array()\n",
        "s.push(4)\n",
        "s.pop()\n"
      ],
      "metadata": {
        "colab": {
          "base_uri": "https://localhost:8080/"
        },
        "id": "GwmIecEJEjH9",
        "outputId": "54985334-cf44-4b44-ac9f-d23de24efdd8"
      },
      "execution_count": null,
      "outputs": [
        {
          "output_type": "execute_result",
          "data": {
            "text/plain": [
              "4"
            ]
          },
          "metadata": {},
          "execution_count": 3
        }
      ]
    },
    {
      "cell_type": "code",
      "source": [
        "#Task 1\n",
        "\n",
        "class Stack_Array:\n",
        "    stack = []\n",
        "    pointer = -1\n",
        "\n",
        "    def push(self, element):\n",
        "        self.stack.append(element)\n",
        "        self.pointer += 1\n",
        "\n",
        "    def peek(self):\n",
        "        return self.stack[self.pointer]\n",
        "\n",
        "    def pop(self):\n",
        "        value = self.stack[self.pointer]\n",
        "        self.stack = self.stack[:-1]\n",
        "        self.pointer -= 1\n",
        "        return value\n",
        "\n",
        "def parenthesis(string):\n",
        "    count = 0\n",
        "    counter = []\n",
        "    stack = Stack_Array()\n",
        "    for char in string:\n",
        "        count += 1\n",
        "        if char == '(' or char == '{' or char == '[':\n",
        "            stack.push(char)\n",
        "            counter.append(count)\n",
        "        elif char == ')' or char == '}' or char == ']':\n",
        "            if len(counter) == 0:\n",
        "                print('This expression is NOT correct.')\n",
        "                print('Error at character #', str(count) + '.', char, '- not opened.')\n",
        "                return\n",
        "        \n",
        "            else:\n",
        "                if char == ')':\n",
        "                    if stack.peek() == '(':\n",
        "                        stack.pop()\n",
        "                        counter.pop()\n",
        "                    else:\n",
        "                        print('This expression is NOT correct.')\n",
        "                        print('Error at character #', str(counter.pop()) + '.', stack.peek(), '- not closed.')\n",
        "                        return\n",
        "                elif char == '}':\n",
        "                    if stack.peek() == '{':\n",
        "                        stack.pop()\n",
        "                        counter.pop()\n",
        "                    else:\n",
        "                        print('This expression is NOT correct.')\n",
        "                        print('Error at character #', str(counter.pop()) + '.', stack.peek(), '- not closed.')\n",
        "                        return\n",
        "                elif char == ']':\n",
        "                    if stack.peek() == '[':\n",
        "                        stack.pop()\n",
        "                        counter.pop()\n",
        "                    else:\n",
        "                        print('This expression is NOT correct.')\n",
        "                        print('Error at character #', str(counter.pop()) + '.', stack.peek(), '- not closed.')\n",
        "                        return\n",
        "    if len(counter) == 0:\n",
        "        print('This expression is correct.')\n",
        "        return\n",
        "\n",
        "\n",
        "parenthesis(\"1+2*[3*3+{4–5(6(7/8/9)+10)}–11+(12*8)/{13+13}]+14\")"
      ],
      "metadata": {
        "id": "n0iti3b7vOtp",
        "colab": {
          "base_uri": "https://localhost:8080/"
        },
        "outputId": "98aff00b-3a4d-4e22-86fc-8b7de436722c"
      },
      "execution_count": 21,
      "outputs": [
        {
          "output_type": "stream",
          "name": "stdout",
          "text": [
            "This expression is correct.\n"
          ]
        }
      ]
    }
  ]
}