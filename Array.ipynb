{
  "nbformat": 4,
  "nbformat_minor": 0,
  "metadata": {
    "colab": {
      "provenance": [],
      "collapsed_sections": []
    },
    "kernelspec": {
      "name": "python3",
      "display_name": "Python 3"
    },
    "language_info": {
      "name": "python"
    }
  },
  "cells": [
    {
      "cell_type": "markdown",
      "source": [
        "**MAIN**"
      ],
      "metadata": {
        "id": "qFQUrrykXf9S"
      }
    },
    {
      "cell_type": "markdown",
      "source": [
        "**Linear Array Value Insertion at Certain Index**\n"
      ],
      "metadata": {
        "id": "UIP4O15fZAgk"
      }
    },
    {
      "cell_type": "code",
      "source": [
        "#Linear arrays will start from index 0\n",
        "#Circular arrays can start at any index \n",
        "\n",
        "#Arrays have fixed length\n",
        "\n",
        "def LinearInsertion(s,size,index,value):\n",
        "\n",
        "  if size == len(s):\n",
        "    print(\"No Space\")\n",
        "    return \n",
        "\n",
        "  if index <0 and index > size:\n",
        "    print(\"Wrong index\")\n",
        "    return\n",
        "    \n",
        "  for i in range(size,index-1,-1):\n",
        "\n",
        "    s[i] = s[i-1]\n",
        "\n",
        "  s[index] = value \n",
        "  return s\n",
        "\n",
        "source = [10,20,30,40,50,0,0,0]\n",
        "print(LinearInsertion(source,5,2,200))\n",
        "  "
      ],
      "metadata": {
        "colab": {
          "base_uri": "https://localhost:8080/"
        },
        "id": "mk23pgTaXmW4",
        "outputId": "2904e21c-96f3-4cec-a596-9934edb296b8"
      },
      "execution_count": null,
      "outputs": [
        {
          "output_type": "stream",
          "name": "stdout",
          "text": [
            "[10, 20, 200, 30, 40, 50, 0, 0]\n"
          ]
        }
      ]
    },
    {
      "cell_type": "markdown",
      "source": [
        "**Reversing a Linear Array In Place(Without creating a new array)**"
      ],
      "metadata": {
        "id": "j91JARcVdpBK"
      }
    },
    {
      "cell_type": "code",
      "source": [
        "import keyword\n",
        "s = [60,50,40,30,20,10]\n",
        "def ReverseArray(s):\n",
        "  i = 0\n",
        "  j = len(s) - 1 \n",
        "  while(i<len(s)/2):\n",
        "    temp = s[i]\n",
        "    temp_2 = s[j]\n",
        "    s[i] = temp_2\n",
        "    s[j] = temp \n",
        "\n",
        "    j -= 1\n",
        "    i += 1\n",
        "\n",
        "  return s \n",
        "\n",
        "print(ReverseArray(s))"
      ],
      "metadata": {
        "colab": {
          "base_uri": "https://localhost:8080/"
        },
        "id": "t2-qO8AqZTBE",
        "outputId": "ed620bb6-28e4-4146-b410-ac6b3362c765"
      },
      "execution_count": null,
      "outputs": [
        {
          "output_type": "stream",
          "name": "stdout",
          "text": [
            "[10, 20, 30, 40, 50, 60]\n"
          ]
        }
      ]
    },
    {
      "cell_type": "markdown",
      "source": [
        "**Right rotate by 1 place (includes right shifting)**"
      ],
      "metadata": {
        "id": "qIQP4mAMiWTJ"
      }
    },
    {
      "cell_type": "code",
      "source": [
        "source = [10,20,30,40,50,60,70]\n",
        "\n",
        "def LinearArrayRotate(s):\n",
        "  temp = s[len(s)-1]\n",
        "  for i in range(len(s)-1,0,-1):\n",
        "    s[i] = s[i-1]\n",
        "  s[0] = temp\n",
        "  return s\n",
        "print(LinearArrayRotate(source))\n"
      ],
      "metadata": {
        "colab": {
          "base_uri": "https://localhost:8080/"
        },
        "id": "HAR2La7RiVVP",
        "outputId": "3f50934d-1968-474c-985f-46cdb9ba66a3"
      },
      "execution_count": null,
      "outputs": [
        {
          "output_type": "stream",
          "name": "stdout",
          "text": [
            "[70, 10, 20, 30, 40, 50, 60]\n"
          ]
        }
      ]
    },
    {
      "cell_type": "markdown",
      "source": [
        "**Right rotate by k Places**"
      ],
      "metadata": {
        "id": "jQ5_X4dWmhcr"
      }
    },
    {
      "cell_type": "code",
      "source": [
        "source = [10,20,30,40,50,60,70]\n",
        "\n",
        "def LinearArrayRotate(s,k):\n",
        "  for i in range(k):\n",
        "    temp = s[len(s)-1]\n",
        "    for i in range(len(s)-1,0,-1):\n",
        "      s[i] = s[i-1]\n",
        "    s[0] = temp\n",
        "  return s\n",
        "print(LinearArrayRotate(source,3))"
      ],
      "metadata": {
        "colab": {
          "base_uri": "https://localhost:8080/"
        },
        "id": "_cdTrYwFml2F",
        "outputId": "0544d686-22a2-4206-a397-615b2195dae2"
      },
      "execution_count": null,
      "outputs": [
        {
          "output_type": "stream",
          "name": "stdout",
          "text": [
            "[50, 60, 70, 10, 20, 30, 40]\n"
          ]
        }
      ]
    },
    {
      "cell_type": "markdown",
      "source": [
        "**Removing value from certain index of Linear Array**"
      ],
      "metadata": {
        "id": "kAZAez2hnSo7"
      }
    },
    {
      "cell_type": "code",
      "source": [
        "source = [10, 20, 30, 40, 50, 0, 0, 0]\n",
        "def remove(s,index,size):\n",
        "  if size == len(s):\n",
        "    print(\"No Space\")\n",
        "    return \n",
        "  if index <0 and index > size:\n",
        "    print(\"Wrong index\")\n",
        "    return\n",
        "  for i in range(index,size):\n",
        "    s[i] = s[i+1]\n",
        "  \n",
        "  return s\n",
        "\n",
        "print(remove(source,2,5))"
      ],
      "metadata": {
        "colab": {
          "base_uri": "https://localhost:8080/"
        },
        "id": "5eni87L1oNes",
        "outputId": "cd65fd32-a74b-4d99-93e2-c2e3f3fb3108"
      },
      "execution_count": null,
      "outputs": [
        {
          "output_type": "stream",
          "name": "stdout",
          "text": [
            "[10, 20, 40, 50, 0, 0, 0, 0]\n"
          ]
        }
      ]
    },
    {
      "cell_type": "markdown",
      "source": [
        "**Circular Array Forward Traverse**\n",
        "\n"
      ],
      "metadata": {
        "id": "74Fpg-VuqwzB"
      }
    },
    {
      "cell_type": "code",
      "source": [
        "def forward_traverse(s,size, start):  #start is needed here to know where circular array starts \n",
        "  for i in range(size):\n",
        "    print(s[start])\n",
        "    start = (start+1)%len(s)\n",
        "source = [60,70,0,10,20,30,40,50]\n",
        "forward_traverse(source,7,3)\n"
      ],
      "metadata": {
        "colab": {
          "base_uri": "https://localhost:8080/"
        },
        "id": "yNKddyFxq3rK",
        "outputId": "9376e24e-9c57-410c-e7a1-8816d361ce3c"
      },
      "execution_count": null,
      "outputs": [
        {
          "output_type": "stream",
          "name": "stdout",
          "text": [
            "10\n",
            "20\n",
            "30\n",
            "40\n",
            "50\n",
            "60\n",
            "70\n"
          ]
        }
      ]
    },
    {
      "cell_type": "markdown",
      "source": [
        "**Circular Array Backward Traverse**"
      ],
      "metadata": {
        "id": "B3fkY8hEuWzk"
      }
    },
    {
      "cell_type": "code",
      "source": [
        "def backward_traverse(s,size,start):\n",
        "  start = ((start+size)-1)%len(s)\n",
        "  for i in range(size):\n",
        "    print(s[start])\n",
        "    start -= 1\n",
        "source = [60,70,0,0,10,20,30,40,50]\n",
        "backward_traverse(source,7,4)"
      ],
      "metadata": {
        "colab": {
          "base_uri": "https://localhost:8080/"
        },
        "id": "pvE8Y7cIufGW",
        "outputId": "ca5331f2-ec45-48f1-fc9a-2b2658845bbd"
      },
      "execution_count": null,
      "outputs": [
        {
          "output_type": "stream",
          "name": "stdout",
          "text": [
            "70\n",
            "60\n",
            "50\n",
            "40\n",
            "30\n",
            "20\n",
            "10\n"
          ]
        }
      ]
    },
    {
      "cell_type": "markdown",
      "source": [
        "**Convert Linear to Circular**"
      ],
      "metadata": {
        "id": "BfFG7HpIzI_N"
      }
    },
    {
      "cell_type": "code",
      "source": [
        "def convert(s,start,size):\n",
        "\n",
        "  c = [0]*len(s)\n",
        "  for i in range(size):\n",
        "    c[start] = s[i]\n",
        "    start = (start+1)%len(s)\n",
        "\n",
        "  return c\n",
        "\n",
        "source = [10, 20, 30, 40, 50, 60, 0, 0, 0, 0]\n",
        "print(convert(source,3,6))\n",
        "\n"
      ],
      "metadata": {
        "colab": {
          "base_uri": "https://localhost:8080/"
        },
        "id": "avcljDxxzT1V",
        "outputId": "7a4c8f3b-1aab-4645-a628-139f2349668a"
      },
      "execution_count": null,
      "outputs": [
        {
          "output_type": "stream",
          "name": "stdout",
          "text": [
            "[0, 0, 0, 10, 20, 30, 40, 50, 60, 0]\n"
          ]
        }
      ]
    },
    {
      "cell_type": "markdown",
      "source": [
        "**Resizing length of circular array**"
      ],
      "metadata": {
        "id": "p_gOblSm1PO1"
      }
    },
    {
      "cell_type": "code",
      "source": [
        "def resize(s,start,size,n):\n",
        "  c = [0]*(len(s)+n)\n",
        "  st = start \n",
        "  c[st] = s[start]\n",
        "  for i in range(size-1):\n",
        "    st = (st+1)%len(c)\n",
        "    start = (start+1)%len(s)\n",
        "    c[st] = s[start]\n",
        "\n",
        "  return c\n",
        "\n",
        "source = [20,30,40,50,10]\n",
        "print(resize(source, 4, 5, 2))\n",
        "    "
      ],
      "metadata": {
        "colab": {
          "base_uri": "https://localhost:8080/"
        },
        "id": "ERtsZNnI1aPr",
        "outputId": "9baaedb4-7f49-4c4a-eba6-9315e2796ada"
      },
      "execution_count": null,
      "outputs": [
        {
          "output_type": "stream",
          "name": "stdout",
          "text": [
            "[40, 50, 0, 0, 10, 20, 30]\n"
          ]
        }
      ]
    },
    {
      "cell_type": "markdown",
      "source": [
        "**Insert into circular array using slice**"
      ],
      "metadata": {
        "id": "vTUps3qD_u4Y"
      }
    },
    {
      "cell_type": "code",
      "source": [
        "def circular_insert(s,index,size,value):\n",
        "  if size < len(s):\n",
        "    index = (index + size)%len(s)  # 4 + 5 = 9, 9%5 = 4 (getting the same index back)\n",
        "    s[index] = value \n",
        "                                           #Array size increases here which contradicts with how an array works\n",
        "  else: \n",
        "    index = (index+size)%len(s)\n",
        "    p1 = s[0:index]\n",
        "    p2 = s[index:len(s)]\n",
        "    p1.append(value)\n",
        "\n",
        "  size +=1\n",
        "  return (p1+p2)\n",
        "\n",
        "source = [20,30,40,50,10]\n",
        "new = circular_insert(source, 4, 5, 60)\n",
        "print(new)\n"
      ],
      "metadata": {
        "colab": {
          "base_uri": "https://localhost:8080/"
        },
        "id": "QlJYK2DmjeQz",
        "outputId": "1dc2d519-c664-492c-bbf2-899fa01a2469"
      },
      "execution_count": null,
      "outputs": [
        {
          "output_type": "stream",
          "name": "stdout",
          "text": [
            "[20, 30, 40, 50, 60, 10]\n"
          ]
        }
      ]
    },
    {
      "cell_type": "markdown",
      "source": [
        "**Insert in between circular array (Causing a shift)**"
      ],
      "metadata": {
        "id": "0my7ZgErmaw5"
      }
    },
    {
      "cell_type": "code",
      "source": [
        "def insertinbetween(s,value,index,start, size):\n",
        "  l = index\n",
        "  if size < len(s):                                        #we have to consider start here  #else statement for resizing missing \n",
        "    for i in range(len(s)-size,index-len(s),-1):\n",
        "      s[i] = s[i-1]\n",
        "    s[l] = value\n",
        "    size +=1\n",
        "    return s\n",
        "source = [50, 60, 0, 0, 10, 20, 30, 40]\n",
        "print(insertinbetween(source, 27, 6, 4, 6))"
      ],
      "metadata": {
        "colab": {
          "base_uri": "https://localhost:8080/"
        },
        "id": "PzaWqz5Emsgz",
        "outputId": "ad7c9af0-6d32-48fc-e9dc-5099185229f6"
      },
      "execution_count": null,
      "outputs": [
        {
          "output_type": "stream",
          "name": "stdout",
          "text": [
            "[40, 50, 60, 0, 10, 20, 27, 30]\n"
          ]
        }
      ]
    },
    {
      "cell_type": "markdown",
      "source": [
        "**Assignment**\n"
      ],
      "metadata": {
        "id": "ZlT5K3hP7Ezb"
      }
    },
    {
      "cell_type": "markdown",
      "source": [
        "**Task 1**"
      ],
      "metadata": {
        "id": "B6MNfI1e8laq"
      }
    },
    {
      "cell_type": "code",
      "source": [
        "#Shift Left k Cells\n",
        "source = [10,20,30,40,50,60]\n",
        "def shiftLeft(s,k):\n",
        "  for i in range(k):\n",
        "    for j in range(len(s)-1):\n",
        "        s[j] = s[j+1]   \n",
        "    s[len(s)-1] = 0\n",
        "  return s\n",
        "print(shiftLeft(source,3))"
      ],
      "metadata": {
        "colab": {
          "base_uri": "https://localhost:8080/"
        },
        "id": "jjW2ZSDe8sug",
        "outputId": "223a981e-fd1a-4bba-b8c6-b0c595931edb"
      },
      "execution_count": null,
      "outputs": [
        {
          "output_type": "stream",
          "name": "stdout",
          "text": [
            "[40, 50, 60, 0, 0, 0]\n"
          ]
        }
      ]
    },
    {
      "cell_type": "markdown",
      "source": [
        "**Task 2**"
      ],
      "metadata": {
        "id": "a2x06yaYinYj"
      }
    },
    {
      "cell_type": "code",
      "source": [
        "#Rotate Left k Cells \n",
        "source = [10,20,30,40,50,60]\n",
        "def rotateLeft(s,k):\n",
        "  for i in range(k):\n",
        "    temp = s[0]\n",
        "    for j in range(len(s)-1):\n",
        "      s[j] = s[j+1]\n",
        "    s[len(s)-1] = temp\n",
        "  return s\n",
        "print(rotateLeft(source,3))\n"
      ],
      "metadata": {
        "colab": {
          "base_uri": "https://localhost:8080/"
        },
        "id": "6HJhuBMgimcz",
        "outputId": "4bd5260f-560f-4745-9e9a-0fa5bfde2614"
      },
      "execution_count": null,
      "outputs": [
        {
          "output_type": "stream",
          "name": "stdout",
          "text": [
            "[40, 50, 60, 10, 20, 30]\n"
          ]
        }
      ]
    },
    {
      "cell_type": "markdown",
      "source": [
        "**Task 3**"
      ],
      "metadata": {
        "id": "lgJU8oCclCD5"
      }
    },
    {
      "cell_type": "code",
      "source": [
        "#Remove element from linear array \n",
        "source = [10,20,30,40,50,0,0]\n",
        "def remove(s,size,index):\n",
        "  for i in range(index,size):\n",
        "    s[i] = s[i+1]\n",
        "  return s \n",
        "print(remove(source,5,2))"
      ],
      "metadata": {
        "colab": {
          "base_uri": "https://localhost:8080/"
        },
        "id": "rGQl2SMClEn_",
        "outputId": "7cfc9678-2c1d-4c68-c99d-4867d93cb8eb"
      },
      "execution_count": null,
      "outputs": [
        {
          "output_type": "stream",
          "name": "stdout",
          "text": [
            "[10, 20, 40, 50, 0, 0, 0]\n"
          ]
        }
      ]
    },
    {
      "cell_type": "markdown",
      "source": [
        "**Task 4**"
      ],
      "metadata": {
        "id": "uRWpzizbmhq-"
      }
    },
    {
      "cell_type": "code",
      "source": [
        "#remove all occurences of a particular element from an array \n",
        "source=[10,2,30,2,50,2,2,60,0,0]\n",
        "def removeAll(s,size,element):\n",
        "  i = 0\n",
        "  while (i < len(s)):\n",
        "    if s[i] == element:\n",
        "      for j in range(i,len(s)-1):\n",
        "        s[j] = s[j+1]\n",
        "      i -=1\n",
        "    i +=1\n",
        "  return s\n",
        "print(removeAll(source,8,2))"
      ],
      "metadata": {
        "colab": {
          "base_uri": "https://localhost:8080/"
        },
        "id": "OginTlC-mqxz",
        "outputId": "17563b4a-1cd4-442e-fbf7-f79686ba77a9"
      },
      "execution_count": null,
      "outputs": [
        {
          "output_type": "stream",
          "name": "stdout",
          "text": [
            "[10, 30, 50, 60, 0, 0, 0, 0, 0, 0]\n"
          ]
        }
      ]
    },
    {
      "cell_type": "markdown",
      "source": [
        "**Task 5**\n"
      ],
      "metadata": {
        "id": "MDV3KTDGrNpB"
      }
    },
    {
      "cell_type": "code",
      "source": [
        "#Splitting an Array \n",
        "\n",
        "s = [10,3,10,2,1]\n",
        "\n",
        "array1 = [0]*(len(s)-2)\n",
        "array2 = [0]*(len(s)-2)\n",
        "sum1 = 0\n",
        "sum2 = 0\n",
        "\n",
        "for i in range(1,len(s)-1):\n",
        "  for j in range(0,i):\n",
        "    sum1 = s[j] + sum1\n",
        "\n",
        "  array1[i-1] = sum1\n",
        "  sum1 = 0\n",
        "\n",
        "for i in range(1,len(s)-1):\n",
        "  for j in range(i,len(s)):\n",
        "    sum2 = s[j] + sum2\n",
        "\n",
        "  array2[i-1] = sum2\n",
        "  sum2 = 0\n",
        "\n",
        "k = 0\n",
        "\n",
        "for i in range(len(array1)):\n",
        "  if array1[i] == array2[i]:\n",
        "    k = 1\n",
        "      \n",
        "if k == 1:\n",
        "  print(\"true\")\n",
        "else:\n",
        "  print(\"false\")\n"
      ],
      "metadata": {
        "id": "wS0TYLJ5rSBg",
        "colab": {
          "base_uri": "https://localhost:8080/"
        },
        "outputId": "94d272c7-ed87-4b06-8beb-ea0c71c001da"
      },
      "execution_count": null,
      "outputs": [
        {
          "output_type": "stream",
          "name": "stdout",
          "text": [
            "true\n"
          ]
        }
      ]
    },
    {
      "cell_type": "markdown",
      "source": [
        "**Task 6**"
      ],
      "metadata": {
        "id": "yJNz8UBiailt"
      }
    },
    {
      "cell_type": "code",
      "source": [
        "def array_series(n):\n",
        "  array = [0]*(n*n)\n",
        "  c = 1\n",
        "  for i in range((n*n)-1,-1,-1):\n",
        "    array[i] = c\n",
        "    c = c + 1\n",
        "    if c == n+1:\n",
        "      c = 1\n",
        "  x = n\n",
        "  k = 0\n",
        "  for i in range(len(array)):\n",
        "    if k <x-1:\n",
        "      array[i] = 0     \n",
        "    k = k + 1\n",
        "    if k == n:\n",
        "      k = 0\n",
        "      x = x - 1\n",
        "  print(array)\n",
        "\n",
        "array_series(4)\n"
      ],
      "metadata": {
        "id": "WdjU9o54anwp",
        "colab": {
          "base_uri": "https://localhost:8080/"
        },
        "outputId": "f0724841-c5cf-46ee-8ddd-1bedef2ffe17"
      },
      "execution_count": null,
      "outputs": [
        {
          "output_type": "stream",
          "name": "stdout",
          "text": [
            "[0, 0, 0, 1, 0, 0, 2, 1, 0, 3, 2, 1, 4, 3, 2, 1]\n"
          ]
        }
      ]
    },
    {
      "cell_type": "markdown",
      "source": [
        "**Task 7**"
      ],
      "metadata": {
        "id": "dpxOwkU4uf3n"
      }
    },
    {
      "cell_type": "code",
      "source": [
        "source = [1,1,2, 2, 1, 1,1,1]\n",
        "def bunch(s):\n",
        "  array = [0]*len(s)\n",
        "  i = len(s)-1\n",
        "  j = 0\n",
        "  l = 0\n",
        "  while (i >= 0):\n",
        "\n",
        "    if s[i-1] == s[i]:\n",
        "     j += 1\n",
        "\n",
        "    else:\n",
        "      array[l] = j\n",
        "      l +=1\n",
        "      j = 0\n",
        "\n",
        "    i = i - 1\n",
        "  \n",
        "  max = 0\n",
        "  for i in range(len(array)):\n",
        "    if array[i] > max:\n",
        "      max = array[i]\n",
        "\n",
        "    else:\n",
        "      continue\n",
        "\n",
        "  print(max+1)\n",
        "    \n",
        "bunch(source)\n"
      ],
      "metadata": {
        "colab": {
          "base_uri": "https://localhost:8080/"
        },
        "id": "FDA0Cj8cukL6",
        "outputId": "fddcfe07-4240-49f9-deec-ea06f494bac0"
      },
      "execution_count": null,
      "outputs": [
        {
          "output_type": "stream",
          "name": "stdout",
          "text": [
            "4\n"
          ]
        }
      ]
    },
    {
      "cell_type": "markdown",
      "source": [
        "**Task 8**"
      ],
      "metadata": {
        "id": "_Tke1NvEzwmU"
      }
    },
    {
      "cell_type": "code",
      "source": [
        "\n",
        "source =  [3,2,7,7,1]\n",
        "def repetition(s):\n",
        "  array = [0]*len(s)\n",
        "  l = 0\n",
        "  p = 0\n",
        "\n",
        "  for i in range(len(s)):\n",
        "    for j in range(len(s)):\n",
        "      if s[i] == s[j]:\n",
        "        p +=1 \n",
        "    array[l] = p\n",
        "    p = 0\n",
        "    l += 1\n",
        "\n",
        "  max = 0\n",
        "  for i in range(len(array)):\n",
        "    if array[i] > max:\n",
        "      max = array[i]\n",
        "    else:\n",
        "      continue \n",
        "\n",
        "  m = 0\n",
        "  for i in range(len(array)):\n",
        "    if array[i] == max:\n",
        "      m = m + 1\n",
        "    else:\n",
        "      continue\n",
        "\n",
        "  if m > max:\n",
        "    print(\"True\")\n",
        "  else:\n",
        "    print(\"False\")\n",
        "\n",
        "repetition(source)\n"
      ],
      "metadata": {
        "colab": {
          "base_uri": "https://localhost:8080/"
        },
        "id": "mqPPGvONz0Dx",
        "outputId": "35f5bb33-aecb-45bd-e5f7-40936fbf0905"
      },
      "execution_count": null,
      "outputs": [
        {
          "output_type": "stream",
          "name": "stdout",
          "text": [
            "False\n"
          ]
        }
      ]
    },
    {
      "cell_type": "markdown",
      "source": [
        "**Task 9**"
      ],
      "metadata": {
        "id": "nRDTzU7E-yuy"
      }
    },
    {
      "cell_type": "code",
      "source": [
        "source = [10,20,0,0,0,10,20,30]\n",
        "\n",
        "def palindrome(s,size,start):\n",
        "   \n",
        "   forwards_print = [0]*size\n",
        "   backwards_print = [0]*size\n",
        "   k = 0\n",
        "   g = 0\n",
        "   y = start\n",
        "\n",
        "   for i in range(size):\n",
        "     m = ((start + size)-1)%len(s)\n",
        "     backwards_print[g] = s[m]\n",
        "     g += 1\n",
        "     start -= 1\n",
        "\n",
        "   for i in range(size):\n",
        "     forwards_print[k] = s[y] \n",
        "     y = (y+1)%len(s)\n",
        "     k += 1\n",
        "\n",
        "   if forwards_print == backwards_print:\n",
        "     print(\"True\")\n",
        "   else:\n",
        "     print(\"False\")\n",
        "\n",
        "\n",
        "palindrome(source,5,5)\n"
      ],
      "metadata": {
        "id": "YkhV_n7R-1Wb",
        "colab": {
          "base_uri": "https://localhost:8080/"
        },
        "outputId": "b1039091-4c09-4df5-ac24-00a1a7599dd3"
      },
      "execution_count": null,
      "outputs": [
        {
          "output_type": "stream",
          "name": "stdout",
          "text": [
            "False\n"
          ]
        }
      ]
    },
    {
      "cell_type": "markdown",
      "source": [
        "**Task 10**"
      ],
      "metadata": {
        "id": "lf6ibtiBaT-F"
      }
    },
    {
      "cell_type": "code",
      "source": [
        "source1 = [40,50,0,0,0,10,20,30]\n",
        "source2 = [10,20,5,0,0,0,0,0,5,40,15,25]\n",
        "\n",
        "def intersection(s1,size1,start1,s2,size2,start2):\n",
        "  l = []\n",
        "  for i in range(((start1+size1)-1)%len(s1),((start1)-len(s1))-1,-1):\n",
        "    for j in range(((start2+size2)-1)%len(s2),((start2)-len(s2))-1,-1):\n",
        "      if s1[i] == s2[j] and s1[i] not in l:\n",
        "        l.append(s1[i])\n",
        "\n",
        "  print(l)\n",
        "\n",
        "intersection([40,50,0,0,0,10,20,30],5,5,[10,20,5,0,0,0,0,0,5,40,15,25],7,8)"
      ],
      "metadata": {
        "id": "Q4VncxiGaZJ0",
        "colab": {
          "base_uri": "https://localhost:8080/"
        },
        "outputId": "489d12df-e182-486a-b159-d2b9fffc4d42"
      },
      "execution_count": null,
      "outputs": [
        {
          "output_type": "stream",
          "name": "stdout",
          "text": [
            "[40, 20, 10]\n"
          ]
        }
      ]
    },
    {
      "cell_type": "markdown",
      "source": [
        "**Task 11**"
      ],
      "metadata": {
        "id": "YCQzryroIqki"
      }
    },
    {
      "cell_type": "code",
      "source": [
        "import random\n",
        "source = ['a','b','c','d','e','f','g']\n",
        "def pocha_game(s):\n",
        "  while(len(s)>1):\n",
        "    x = random.randint(0,3)\n",
        "\n",
        "    if x == 1:\n",
        "      i = int(len(s)/2)-1\n",
        "      s.pop(i)                                        #POSITION N/2 will be eliminated\n",
        "      print(x)                                        #we think of this simply without 0 \n",
        "      print(s)                                        #real life scenario \n",
        "                                                      #each turn ora ghurbe \n",
        "    else:\n",
        "      m = s[len(s)-1]\n",
        "      for i in range(len(s)-1,0,-1):       #exclude last one \n",
        "        s[i] = s[i-1]\n",
        "      s[0] = m                                       \n",
        "      print(x)\n",
        "      print(s)\n",
        "\n",
        "pocha_game(source)\n"
      ],
      "metadata": {
        "colab": {
          "base_uri": "https://localhost:8080/"
        },
        "id": "pXgTdFxRItOT",
        "outputId": "6f5711ea-8aff-4d21-a5ab-7ef13b1f1fc4"
      },
      "execution_count": 15,
      "outputs": [
        {
          "output_type": "stream",
          "name": "stdout",
          "text": [
            "3\n",
            "['g', 'a', 'b', 'c', 'd', 'e', 'f']\n",
            "3\n",
            "['f', 'g', 'a', 'b', 'c', 'd', 'e']\n",
            "2\n",
            "['e', 'f', 'g', 'a', 'b', 'c', 'd']\n",
            "2\n",
            "['d', 'e', 'f', 'g', 'a', 'b', 'c']\n",
            "0\n",
            "['c', 'd', 'e', 'f', 'g', 'a', 'b']\n",
            "3\n",
            "['b', 'c', 'd', 'e', 'f', 'g', 'a']\n",
            "2\n",
            "['a', 'b', 'c', 'd', 'e', 'f', 'g']\n",
            "3\n",
            "['g', 'a', 'b', 'c', 'd', 'e', 'f']\n",
            "0\n",
            "['f', 'g', 'a', 'b', 'c', 'd', 'e']\n",
            "0\n",
            "['e', 'f', 'g', 'a', 'b', 'c', 'd']\n",
            "0\n",
            "['d', 'e', 'f', 'g', 'a', 'b', 'c']\n",
            "3\n",
            "['c', 'd', 'e', 'f', 'g', 'a', 'b']\n",
            "0\n",
            "['b', 'c', 'd', 'e', 'f', 'g', 'a']\n",
            "3\n",
            "['a', 'b', 'c', 'd', 'e', 'f', 'g']\n",
            "0\n",
            "['g', 'a', 'b', 'c', 'd', 'e', 'f']\n",
            "3\n",
            "['f', 'g', 'a', 'b', 'c', 'd', 'e']\n",
            "3\n",
            "['e', 'f', 'g', 'a', 'b', 'c', 'd']\n",
            "0\n",
            "['d', 'e', 'f', 'g', 'a', 'b', 'c']\n",
            "3\n",
            "['c', 'd', 'e', 'f', 'g', 'a', 'b']\n",
            "3\n",
            "['b', 'c', 'd', 'e', 'f', 'g', 'a']\n",
            "0\n",
            "['a', 'b', 'c', 'd', 'e', 'f', 'g']\n",
            "1\n",
            "['a', 'b', 'd', 'e', 'f', 'g']\n",
            "0\n",
            "['g', 'a', 'b', 'd', 'e', 'f']\n",
            "2\n",
            "['f', 'g', 'a', 'b', 'd', 'e']\n",
            "2\n",
            "['e', 'f', 'g', 'a', 'b', 'd']\n",
            "3\n",
            "['d', 'e', 'f', 'g', 'a', 'b']\n",
            "1\n",
            "['d', 'e', 'g', 'a', 'b']\n",
            "2\n",
            "['b', 'd', 'e', 'g', 'a']\n",
            "2\n",
            "['a', 'b', 'd', 'e', 'g']\n",
            "2\n",
            "['g', 'a', 'b', 'd', 'e']\n",
            "0\n",
            "['e', 'g', 'a', 'b', 'd']\n",
            "1\n",
            "['e', 'a', 'b', 'd']\n",
            "2\n",
            "['d', 'e', 'a', 'b']\n",
            "2\n",
            "['b', 'd', 'e', 'a']\n",
            "2\n",
            "['a', 'b', 'd', 'e']\n",
            "0\n",
            "['e', 'a', 'b', 'd']\n",
            "2\n",
            "['d', 'e', 'a', 'b']\n",
            "3\n",
            "['b', 'd', 'e', 'a']\n",
            "1\n",
            "['b', 'e', 'a']\n",
            "3\n",
            "['a', 'b', 'e']\n",
            "3\n",
            "['e', 'a', 'b']\n",
            "1\n",
            "['a', 'b']\n",
            "2\n",
            "['b', 'a']\n",
            "2\n",
            "['a', 'b']\n",
            "1\n",
            "['b']\n"
          ]
        }
      ]
    }
  ]
}